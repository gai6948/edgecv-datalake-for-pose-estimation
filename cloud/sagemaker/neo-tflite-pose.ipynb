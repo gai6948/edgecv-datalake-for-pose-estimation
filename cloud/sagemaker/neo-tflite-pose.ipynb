{
 "cells": [
  {
   "cell_type": "markdown",
   "id": "atlantic-acting",
   "metadata": {},
   "source": [
    "# Compile Tensorflow Object Detection model for Jetson Nano"
   ]
  },
  {
   "cell_type": "markdown",
   "id": "convenient-portrait",
   "metadata": {},
   "source": [
    "## Download Model"
   ]
  },
  {
   "cell_type": "code",
   "execution_count": null,
   "id": "inside-nothing",
   "metadata": {},
   "outputs": [],
   "source": [
    "!mkdir -p posenet"
   ]
  },
  {
   "cell_type": "code",
   "execution_count": null,
   "id": "minor-eagle",
   "metadata": {},
   "outputs": [],
   "source": [
    "!wget https://storage.googleapis.com/download.tensorflow.org/models/tflite/posenet_mobilenet_v1_100_257x257_multi_kpt_stripped.tflite -O posenet/posenet_mobile.tflite"
   ]
  },
  {
   "cell_type": "code",
   "execution_count": null,
   "id": "auburn-anger",
   "metadata": {},
   "outputs": [],
   "source": [
    "model_filename = 'posenet/posenet_mobile.tflite'\n",
    "model_name = 'posenet-mobile'\n",
    "\n",
    "# Compress model into .tar.gz so SageMaker Neo can use it\n",
    "model_tar = model_name + '.tar.gz'\n",
    "!tar -czf {model_tar} {model_filename}"
   ]
  },
  {
   "cell_type": "markdown",
   "id": "iraqi-infection",
   "metadata": {},
   "source": [
    "## Upload Model to S3"
   ]
  },
  {
   "cell_type": "code",
   "execution_count": null,
   "id": "greater-fourth",
   "metadata": {},
   "outputs": [],
   "source": [
    "import sagemaker\n",
    "from sagemaker import get_execution_role\n",
    "import boto3\n",
    "import botocore\n",
    "import json"
   ]
  },
  {
   "cell_type": "code",
   "execution_count": null,
   "id": "romantic-minimum",
   "metadata": {},
   "outputs": [],
   "source": [
    "role = get_execution_role()\n",
    "sess = sagemaker.Session()\n",
    "region = 'ap-northeast-1'"
   ]
  },
  {
   "cell_type": "code",
   "execution_count": null,
   "id": "institutional-mercy",
   "metadata": {},
   "outputs": [],
   "source": [
    "# S3 bucket and folders for saving model artifacts.\n",
    "# Feel free to specify different bucket/folders here if you wish.\n",
    "bucket = '<your bucket here>'\n",
    "folder = 'edge-cv-datalake-demo/models/pose-estimator'\n",
    "training_output_folder = folder + '/training-output'\n",
    "compilation_output_sub_folder = folder + '/compilation-output'\n",
    "s3_packaging_output_location = folder + '/packaging-output'\n",
    "\n",
    "# S3 Location to save the model artifact after compilation\n",
    "s3_training_output_location = 's3://{}/{}'.format(bucket, training_output_folder)\n",
    "s3_compilation_output_location = 's3://{}/{}'.format(bucket, compilation_output_sub_folder)\n",
    "s3_packaging_output_location = 's3://{}/{}'.format(bucket, s3_packaging_output_location)\n",
    "print(s3_compilation_output_location)\n",
    "print(s3_packaging_output_location)"
   ]
  },
  {
   "cell_type": "code",
   "execution_count": null,
   "id": "ongoing-victoria",
   "metadata": {},
   "outputs": [],
   "source": [
    "sagemaker_client = boto3.client('sagemaker', region_name=region)"
   ]
  },
  {
   "cell_type": "code",
   "execution_count": null,
   "id": "ranging-bookmark",
   "metadata": {},
   "outputs": [],
   "source": [
    "pose_estimator_s3_path = sess.upload_data(model_tar, bucket, training_output_folder)"
   ]
  },
  {
   "cell_type": "code",
   "execution_count": null,
   "id": "super-seeker",
   "metadata": {},
   "outputs": [],
   "source": [
    "## Update version\n",
    "pose_estimator_model_version = '0.1.0'"
   ]
  },
  {
   "cell_type": "markdown",
   "id": "built-bahrain",
   "metadata": {},
   "source": [
    "## Start a Neo Compilation Job"
   ]
  },
  {
   "cell_type": "code",
   "execution_count": null,
   "id": "smooth-allen",
   "metadata": {},
   "outputs": [],
   "source": [
    "import time\n",
    "\n",
    "def compile_model(model_type, model_path, model_framework, model_data_shape, target_device, compiler_options):\n",
    "    compilation_job_name = 'edge-cv-datalake-demo-'+ model_type + '-' + pose_estimator_model_version.replace('.', '-') + '-' + target_device.replace('_', '-')\n",
    "    print('Compilation job for %s started' % compilation_job_name)\n",
    "\n",
    "    response = sagemaker_client.create_compilation_job(\n",
    "            CompilationJobName=compilation_job_name,\n",
    "            RoleArn=role,\n",
    "            InputConfig={\n",
    "                'S3Uri': model_path,\n",
    "                'DataInputConfig': model_data_shape,\n",
    "                'Framework': model_framework.upper()\n",
    "            },\n",
    "            OutputConfig={\n",
    "                'S3OutputLocation': s3_compilation_output_location,\n",
    "                'TargetDevice': target_device,\n",
    "                'CompilerOptions': compiler_options\n",
    "            },\n",
    "            StoppingCondition={\n",
    "                'MaxRuntimeInSeconds': 1800\n",
    "            }\n",
    "        )\n",
    "\n",
    "    print(response)\n",
    "\n",
    "    # Poll every 30 sec\n",
    "    while True:\n",
    "        response = sagemaker_client.describe_compilation_job(CompilationJobName=compilation_job_name)\n",
    "        if response['CompilationJobStatus'] == 'COMPLETED':\n",
    "            break\n",
    "        elif response['CompilationJobStatus'] == 'FAILED':\n",
    "            raise RuntimeError('Compilation failed')\n",
    "        print('Compiling ...')\n",
    "        time.sleep(30)\n",
    "    print('Done!')\n",
    "    return compilation_job_name"
   ]
  },
  {
   "cell_type": "code",
   "execution_count": null,
   "id": "public-familiar",
   "metadata": {},
   "outputs": [],
   "source": [
    "def package_model(compilation_job_name, packaged_model_name, model_version):\n",
    "    model_packaging_job_name=compilation_job_name\n",
    "    response = sagemaker_client.create_edge_packaging_job(\n",
    "        RoleArn=role,\n",
    "        OutputConfig={\n",
    "            'S3OutputLocation': s3_packaging_output_location,\n",
    "        },\n",
    "        ModelName=packaged_model_name,\n",
    "        ModelVersion=model_version,\n",
    "        EdgePackagingJobName=model_packaging_job_name,\n",
    "        CompilationJobName=compilation_job_name,\n",
    "    )\n",
    "\n",
    "    print(response)\n",
    "\n",
    "    # Poll every 30 sec\n",
    "    while True:\n",
    "        job_status = sagemaker_client.describe_edge_packaging_job(EdgePackagingJobName=model_packaging_job_name)\n",
    "        if job_status['EdgePackagingJobStatus'] == 'COMPLETED':\n",
    "            break\n",
    "        elif job_status['EdgePackagingJobStatus'] == 'FAILED':\n",
    "            raise RuntimeError('Edge Packaging failed')\n",
    "        print('Packaging ...')\n",
    "        time.sleep(30)\n",
    "    print('Done!')\n",
    "    return model_packaging_job_name"
   ]
  },
  {
   "cell_type": "code",
   "execution_count": null,
   "id": "blank-prospect",
   "metadata": {},
   "outputs": [],
   "source": [
    "pose_estimator_model_data_shape = '{\"sub_2\":[1,257,257,3]}'\n",
    "\n",
    "model_framework = 'tflite'\n",
    "target_device = 'jetson_nano'\n",
    "\n",
    "# Compile for JETPACK 4.5.1 on Jetson Nano \n",
    "compiler_options = json.dumps({\n",
    "    'NVIDIA': {\n",
    "        'gpu_code': 'sm_53',\n",
    "        'trt-ver': '7.1.3',\n",
    "        'cuda-ver': '10.2'\n",
    "    }\n",
    "})"
   ]
  },
  {
   "cell_type": "code",
   "execution_count": null,
   "id": "synthetic-functionality",
   "metadata": {},
   "outputs": [],
   "source": [
    "pose_estimator_compilation_job_name = compile_model('pose-estimator', pose_estimator_s3_path, model_framework, pose_estimator_model_data_shape, target_device, compiler_options)"
   ]
  },
  {
   "cell_type": "code",
   "execution_count": null,
   "id": "central-allergy",
   "metadata": {},
   "outputs": [],
   "source": [
    "pose_estimator_packaged_model_name = \"pose-estimator-model-packaged-nano\"\n",
    "pose_estimator_model_package = '{}-{}.tar.gz'.format(pose_estimator_packaged_model_name, pose_estimator_model_version.replace('.', '-'))\n",
    "print(pose_estimator_model_package)"
   ]
  },
  {
   "cell_type": "code",
   "execution_count": null,
   "id": "adapted-laptop",
   "metadata": {},
   "outputs": [],
   "source": [
    "pose_estimator_packaging_job_name = package_model('edge-cv-datalake-demo-pose-estimator-0-1-0-jetson-nano', pose_estimator_packaged_model_name, pose_estimator_model_version)"
   ]
  },
  {
   "cell_type": "code",
   "execution_count": null,
   "id": "english-attempt",
   "metadata": {},
   "outputs": [],
   "source": [
    "pose_estimator_packaging_job_name = package_model(pose_estimator_compilation_job_name, pose_estimator_packaged_model_name, pose_estimator_model_version)"
   ]
  },
  {
   "cell_type": "code",
   "execution_count": null,
   "id": "about-editor",
   "metadata": {},
   "outputs": [],
   "source": [
    "target_device = 'rasp3b'\n",
    "compiler_options = '{\"\":\"\"}'\n",
    "pose_estimator_compilation_job_name = compile_model('pose-estimator', pose_estimator_s3_path, model_framework, pose_estimator_model_data_shape, target_device, compiler_options)"
   ]
  },
  {
   "cell_type": "code",
   "execution_count": null,
   "id": "mineral-remove",
   "metadata": {},
   "outputs": [],
   "source": []
  }
 ],
 "metadata": {
  "kernelspec": {
   "display_name": "conda_tensorflow_p36",
   "language": "python",
   "name": "conda_tensorflow_p36"
  },
  "language_info": {
   "codemirror_mode": {
    "name": "ipython",
    "version": 3
   },
   "file_extension": ".py",
   "mimetype": "text/x-python",
   "name": "python",
   "nbconvert_exporter": "python",
   "pygments_lexer": "ipython3",
   "version": "3.6.13"
  }
 },
 "nbformat": 4,
 "nbformat_minor": 5
}